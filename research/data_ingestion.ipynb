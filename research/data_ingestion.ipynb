{
 "cells": [
  {
   "cell_type": "code",
   "execution_count": 13,
   "metadata": {},
   "outputs": [],
   "source": [
    "from dataclasses import dataclass\n",
    "from pathlib import Path\n",
    "\n",
    "@dataclass(frozen=True)\n",
    "class DataIngestionConfig:\n",
    "    root_dir:Path\n",
    "    Source_URL:str\n",
    "    local_data_file:Path\n",
    "    unzip_dir:Path"
   ]
  },
  {
   "cell_type": "code",
   "execution_count": 14,
   "metadata": {},
   "outputs": [],
   "source": [
    "from CNNClassifier.constants import *\n",
    "from CNNClassifier.utils.utils import read_yaml, create_directory\n",
    "#from CNNClassifier.constants import CONFIG_FILE_PATH, PARAMS_FILE_PATH"
   ]
  },
  {
   "cell_type": "code",
   "execution_count": 16,
   "metadata": {},
   "outputs": [
    {
     "ename": "ImportError",
     "evalue": "cannot import name 'CONFIG_FILE_PATH' from 'CNNClassifier.constants' (C:\\Users\\Lenovo\\Downloads\\ML project\\CNN\\src\\CNNClassifier\\constants\\__init__.py)",
     "output_type": "error",
     "traceback": [
      "\u001b[1;31m---------------------------------------------------------------------------\u001b[0m",
      "\u001b[1;31mImportError\u001b[0m                               Traceback (most recent call last)",
      "\u001b[1;32mc:\\Users\\Lenovo\\Downloads\\ML project\\CNN\\research\\data_ingestion.ipynb Cell 3\u001b[0m line \u001b[0;36m1\n\u001b[1;32m----> <a href='vscode-notebook-cell:/c%3A/Users/Lenovo/Downloads/ML%20project/CNN/research/data_ingestion.ipynb#W2sZmlsZQ%3D%3D?line=0'>1</a>\u001b[0m \u001b[39mfrom\u001b[39;00m \u001b[39mCNNClassifier\u001b[39;00m\u001b[39m.\u001b[39;00m\u001b[39mconstants\u001b[39;00m \u001b[39mimport\u001b[39;00m CONFIG_FILE_PATH, PARAMS_FILE_PATH\n\u001b[0;32m      <a href='vscode-notebook-cell:/c%3A/Users/Lenovo/Downloads/ML%20project/CNN/research/data_ingestion.ipynb#W2sZmlsZQ%3D%3D?line=1'>2</a>\u001b[0m \u001b[39mclass\u001b[39;00m \u001b[39mConfigurationManager\u001b[39;00m:\n\u001b[0;32m      <a href='vscode-notebook-cell:/c%3A/Users/Lenovo/Downloads/ML%20project/CNN/research/data_ingestion.ipynb#W2sZmlsZQ%3D%3D?line=2'>3</a>\u001b[0m     \u001b[39mdef\u001b[39;00m \u001b[39m__init__\u001b[39m(\u001b[39mself\u001b[39m, \n\u001b[0;32m      <a href='vscode-notebook-cell:/c%3A/Users/Lenovo/Downloads/ML%20project/CNN/research/data_ingestion.ipynb#W2sZmlsZQ%3D%3D?line=3'>4</a>\u001b[0m         config_filepath \u001b[39m=\u001b[39m CONFIG_FILE_PATH,\n\u001b[0;32m      <a href='vscode-notebook-cell:/c%3A/Users/Lenovo/Downloads/ML%20project/CNN/research/data_ingestion.ipynb#W2sZmlsZQ%3D%3D?line=4'>5</a>\u001b[0m         params_filepath \u001b[39m=\u001b[39m PARAMS_FILE_PATH):\n",
      "\u001b[1;31mImportError\u001b[0m: cannot import name 'CONFIG_FILE_PATH' from 'CNNClassifier.constants' (C:\\Users\\Lenovo\\Downloads\\ML project\\CNN\\src\\CNNClassifier\\constants\\__init__.py)"
     ]
    }
   ],
   "source": [
    "from CNNClassifier.constants import CONFIG_FILE_PATH, PARAMS_FILE_PATH\n",
    "class ConfigurationManager:\n",
    "    def __init__(self, \n",
    "        config_filepath = CONFIG_FILE_PATH,\n",
    "        params_filepath = PARAMS_FILE_PATH):\n",
    "        self.config = read_yaml(config_filepath)\n",
    "        self.params = read_yaml(params_filepath)\n",
    "        create_directory([self.config.artifacts_root])\n",
    "        \n",
    "    def get_data_ingestion_config(self) -> DataIngestionConfig:\n",
    "        config = self.config.data_ingestion\n",
    "        \n",
    "        create_directory([config.root_dir])\n",
    "        \n",
    "        data_ingestion_config =DataIngestionConfig(\n",
    "            root_dir=config.root_dir,\n",
    "            source_URL=config.source_URL,\n",
    "            local_data_file=config.local_data_file,\n",
    "            unzip_dir=config.unzip_dir \n",
    "        )\n",
    "        return data_ingestion_config"
   ]
  },
  {
   "cell_type": "code",
   "execution_count": null,
   "metadata": {},
   "outputs": [],
   "source": []
  }
 ],
 "metadata": {
  "kernelspec": {
   "display_name": "Python 3",
   "language": "python",
   "name": "python3"
  },
  "language_info": {
   "codemirror_mode": {
    "name": "ipython",
    "version": 3
   },
   "file_extension": ".py",
   "mimetype": "text/x-python",
   "name": "python",
   "nbconvert_exporter": "python",
   "pygments_lexer": "ipython3",
   "version": "3.8.18"
  }
 },
 "nbformat": 4,
 "nbformat_minor": 2
}
